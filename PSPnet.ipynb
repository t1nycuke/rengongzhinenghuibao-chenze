{
 "cells": [
  {
   "cell_type": "code",
   "execution_count": 1,
   "id": "025014e0",
   "metadata": {},
   "outputs": [],
   "source": [
    "import torch\n",
    "import torch.nn as nn\n",
    "import torch.nn.functional as F\n",
    "from torch.utils import data\n",
    "\n",
    "import numpy as np\n",
    "import matplotlib.pyplot as plt\n",
    "%matplotlib inline\n",
    "\n",
    "import torchvision\n",
    "from torchvision import transforms\n",
    "import os\n",
    "\n",
    "import glob\n",
    "from PIL import Image\n",
    "from tqdm import tqdm"
   ]
  },
  {
   "cell_type": "code",
   "execution_count": 2,
   "id": "ddbbb63e",
   "metadata": {},
   "outputs": [
    {
     "data": {
      "text/plain": [
       "['000.png',\n",
       " '000_mask.png',\n",
       " '001.png',\n",
       " '001_mask.png',\n",
       " '002.png',\n",
       " '002_mask.png',\n",
       " '003.png',\n",
       " '003_mask.png',\n",
       " '004.png',\n",
       " '004_mask.png',\n",
       " '005.png',\n",
       " '005_mask.png',\n",
       " '006.png',\n",
       " '006_mask.png',\n",
       " '007.png',\n",
       " '007_mask.png',\n",
       " '008.png',\n",
       " '008_mask.png',\n",
       " '009.png',\n",
       " '009_mask.png',\n",
       " '010.png',\n",
       " '010_mask.png',\n",
       " '011.png',\n",
       " '011_mask.png',\n",
       " '012.png',\n",
       " '012_mask.png',\n",
       " '013.png',\n",
       " '013_mask.png',\n",
       " '014.png',\n",
       " '014_mask.png',\n",
       " '015.png',\n",
       " '015_mask.png',\n",
       " '016.png',\n",
       " '016_mask.png',\n",
       " '017.png',\n",
       " '017_mask.png',\n",
       " '018.png',\n",
       " '018_mask.png',\n",
       " '019.png',\n",
       " '019_mask.png',\n",
       " '020.png',\n",
       " '020_mask.png',\n",
       " '021.png',\n",
       " '021_mask.png',\n",
       " '022.png',\n",
       " '022_mask.png',\n",
       " '023.png',\n",
       " '023_mask.png',\n",
       " '024.png',\n",
       " '024_mask.png',\n",
       " '025.png',\n",
       " '025_mask.png',\n",
       " '026.png',\n",
       " '026_mask.png',\n",
       " '027.png',\n",
       " '027_mask.png',\n",
       " '028.png',\n",
       " '028_mask.png',\n",
       " '029.png',\n",
       " '029_mask.png',\n",
       " '030.png',\n",
       " '030_mask.png',\n",
       " '031.png',\n",
       " '031_mask.png',\n",
       " '032.png',\n",
       " '032_mask.png',\n",
       " '033.png',\n",
       " '033_mask.png',\n",
       " '034.png',\n",
       " '034_mask.png',\n",
       " '035.png',\n",
       " '035_mask.png',\n",
       " '036.png',\n",
       " '036_mask.png',\n",
       " '037.png',\n",
       " '037_mask.png',\n",
       " '038.png',\n",
       " '038_mask.png',\n",
       " '039.png',\n",
       " '039_mask.png',\n",
       " '040.png',\n",
       " '040_mask.png',\n",
       " '041.png',\n",
       " '041_mask.png',\n",
       " '042.png',\n",
       " '042_mask.png',\n",
       " '043.png',\n",
       " '043_mask.png',\n",
       " '044.png',\n",
       " '044_mask.png',\n",
       " '045.png',\n",
       " '045_mask.png',\n",
       " '046.png',\n",
       " '046_mask.png',\n",
       " '047.png',\n",
       " '047_mask.png',\n",
       " '048.png',\n",
       " '048_mask.png',\n",
       " '049.png',\n",
       " '049_mask.png',\n",
       " '050.png',\n",
       " '050_mask.png',\n",
       " '051.png',\n",
       " '051_mask.png',\n",
       " '052.png',\n",
       " '052_mask.png',\n",
       " '053.png',\n",
       " '053_mask.png',\n",
       " '054.png',\n",
       " '054_mask.png',\n",
       " '055.png',\n",
       " '055_mask.png',\n",
       " '056.png',\n",
       " '056_mask.png',\n",
       " '057.png',\n",
       " '057_mask.png',\n",
       " '058.png',\n",
       " '058_mask.png',\n",
       " '059.png',\n",
       " '059_mask.png',\n",
       " '060.png',\n",
       " '060_mask.png',\n",
       " '061.png',\n",
       " '061_mask.png',\n",
       " '062.png',\n",
       " '062_mask.png',\n",
       " '063.png',\n",
       " '063_mask.png',\n",
       " '064.png',\n",
       " '064_mask.png',\n",
       " '065.png',\n",
       " '065_mask.png',\n",
       " '066.png',\n",
       " '066_mask.png',\n",
       " '067.png',\n",
       " '067_mask.png',\n",
       " '068.png',\n",
       " '068_mask.png',\n",
       " '069.png',\n",
       " '069_mask.png',\n",
       " '070.png',\n",
       " '070_mask.png',\n",
       " '071.png',\n",
       " '071_mask.png',\n",
       " '072.png',\n",
       " '072_mask.png',\n",
       " '073.png',\n",
       " '073_mask.png',\n",
       " '074.png',\n",
       " '074_mask.png',\n",
       " '075.png',\n",
       " '075_mask.png',\n",
       " '076.png',\n",
       " '076_mask.png',\n",
       " '077.png',\n",
       " '077_mask.png',\n",
       " '078.png',\n",
       " '078_mask.png',\n",
       " '079.png',\n",
       " '079_mask.png',\n",
       " '080.png',\n",
       " '080_mask.png',\n",
       " '081.png',\n",
       " '081_mask.png',\n",
       " '082.png',\n",
       " '082_mask.png',\n",
       " '083.png',\n",
       " '083_mask.png',\n",
       " '084.png',\n",
       " '084_mask.png',\n",
       " '085.png',\n",
       " '085_mask.png',\n",
       " '086.png',\n",
       " '086_mask.png',\n",
       " '087.png',\n",
       " '087_mask.png',\n",
       " '088.png',\n",
       " '088_mask.png',\n",
       " '089.png',\n",
       " '089_mask.png',\n",
       " '090.png',\n",
       " '090_mask.png',\n",
       " '091.png',\n",
       " '091_mask.png',\n",
       " '092.png',\n",
       " '092_mask.png',\n",
       " '093.png',\n",
       " '093_mask.png',\n",
       " '094.png',\n",
       " '094_mask.png',\n",
       " '095.png',\n",
       " '095_mask.png',\n",
       " '096.png',\n",
       " '096_mask.png',\n",
       " '097.png',\n",
       " '097_mask.png',\n",
       " '098.png',\n",
       " '098_mask.png',\n",
       " '099.png',\n",
       " '099_mask.png',\n",
       " '100.png',\n",
       " '100_mask.png',\n",
       " '101.png',\n",
       " '101_mask.png',\n",
       " '102.png',\n",
       " '102_mask.png',\n",
       " '103.png',\n",
       " '103_mask.png',\n",
       " '104.png',\n",
       " '104_mask.png',\n",
       " '105.png',\n",
       " '105_mask.png',\n",
       " '106.png',\n",
       " '106_mask.png',\n",
       " '107.png',\n",
       " '107_mask.png',\n",
       " '108.png',\n",
       " '108_mask.png',\n",
       " '109.png',\n",
       " '109_mask.png',\n",
       " '110.png',\n",
       " '110_mask.png',\n",
       " '111.png',\n",
       " '111_mask.png',\n",
       " '112.png',\n",
       " '112_mask.png',\n",
       " '113.png',\n",
       " '113_mask.png',\n",
       " '114.png',\n",
       " '114_mask.png',\n",
       " '115.png',\n",
       " '115_mask.png',\n",
       " '116.png',\n",
       " '116_mask.png',\n",
       " '117.png',\n",
       " '117_mask.png',\n",
       " '118.png',\n",
       " '118_mask.png',\n",
       " '119.png',\n",
       " '119_mask.png',\n",
       " '120.png',\n",
       " '120_mask.png',\n",
       " '121.png',\n",
       " '121_mask.png',\n",
       " '122.png',\n",
       " '122_mask.png',\n",
       " '123.png',\n",
       " '123_mask.png',\n",
       " '124.png',\n",
       " '124_mask.png',\n",
       " '125.png',\n",
       " '125_mask.png',\n",
       " '126.png',\n",
       " '126_mask.png',\n",
       " '127.png',\n",
       " '127_mask.png',\n",
       " '128.png',\n",
       " '128_mask.png',\n",
       " '129.png',\n",
       " '129_mask.png',\n",
       " '130.png',\n",
       " '130_mask.png',\n",
       " '131.png',\n",
       " '131_mask.png',\n",
       " '132.png',\n",
       " '132_mask.png',\n",
       " '133.png',\n",
       " '133_mask.png',\n",
       " '134.png',\n",
       " '134_mask.png',\n",
       " '135.png',\n",
       " '135_mask.png',\n",
       " '136.png',\n",
       " '136_mask.png',\n",
       " '137.png',\n",
       " '137_mask.png',\n",
       " '138.png',\n",
       " '138_mask.png',\n",
       " '139.png',\n",
       " '139_mask.png',\n",
       " '140.png',\n",
       " '140_mask.png',\n",
       " '141.png',\n",
       " '141_mask.png',\n",
       " '142.png',\n",
       " '142_mask.png',\n",
       " '143.png',\n",
       " '143_mask.png',\n",
       " '144.png',\n",
       " '144_mask.png',\n",
       " '145.png',\n",
       " '145_mask.png',\n",
       " '146.png',\n",
       " '146_mask.png',\n",
       " '147.png',\n",
       " '147_mask.png',\n",
       " '148.png',\n",
       " '148_mask.png',\n",
       " '149.png',\n",
       " '149_mask.png',\n",
       " '150.png',\n",
       " '150_mask.png',\n",
       " '151.png',\n",
       " '151_mask.png',\n",
       " '152.png',\n",
       " '152_mask.png',\n",
       " '153.png',\n",
       " '153_mask.png',\n",
       " '154.png',\n",
       " '154_mask.png',\n",
       " '155.png',\n",
       " '155_mask.png',\n",
       " '156.png',\n",
       " '156_mask.png',\n",
       " '157.png',\n",
       " '157_mask.png',\n",
       " '158.png',\n",
       " '158_mask.png',\n",
       " '159.png',\n",
       " '159_mask.png',\n",
       " '160.png',\n",
       " '160_mask.png',\n",
       " '161.png',\n",
       " '161_mask.png',\n",
       " '162.png',\n",
       " '162_mask.png',\n",
       " '163.png',\n",
       " '163_mask.png',\n",
       " '164.png',\n",
       " '164_mask.png',\n",
       " '165.png',\n",
       " '165_mask.png',\n",
       " '166.png',\n",
       " '166_mask.png',\n",
       " '167.png',\n",
       " '167_mask.png',\n",
       " '168.png',\n",
       " '168_mask.png',\n",
       " '169.png',\n",
       " '169_mask.png',\n",
       " '170.png',\n",
       " '170_mask.png',\n",
       " '171.png',\n",
       " '171_mask.png',\n",
       " '172.png',\n",
       " '172_mask.png',\n",
       " '173.png',\n",
       " '173_mask.png',\n",
       " '174.png',\n",
       " '174_mask.png',\n",
       " '175.png',\n",
       " '175_mask.png',\n",
       " '176.png',\n",
       " '176_mask.png',\n",
       " '177.png',\n",
       " '177_mask.png',\n",
       " '178.png',\n",
       " '178_mask.png',\n",
       " '179.png',\n",
       " '179_mask.png',\n",
       " '180.png',\n",
       " '180_mask.png',\n",
       " '181.png',\n",
       " '181_mask.png',\n",
       " '182.png',\n",
       " '182_mask.png',\n",
       " '183.png',\n",
       " '183_mask.png',\n",
       " '184.png',\n",
       " '184_mask.png',\n",
       " '185.png',\n",
       " '185_mask.png',\n",
       " '186.png',\n",
       " '186_mask.png',\n",
       " '187.png',\n",
       " '187_mask.png',\n",
       " '188.png',\n",
       " '188_mask.png',\n",
       " '189.png',\n",
       " '189_mask.png',\n",
       " '190.png',\n",
       " '190_mask.png',\n",
       " '191.png',\n",
       " '191_mask.png',\n",
       " '192.png',\n",
       " '192_mask.png',\n",
       " '193.png',\n",
       " '193_mask.png',\n",
       " '194.png',\n",
       " '194_mask.png',\n",
       " '195.png',\n",
       " '195_mask.png',\n",
       " '196.png',\n",
       " '196_mask.png',\n",
       " '197.png',\n",
       " '197_mask.png',\n",
       " '198.png',\n",
       " '198_mask.png',\n",
       " '199.png',\n",
       " '199_mask.png',\n",
       " '200.png',\n",
       " '200_mask.png',\n",
       " '201.png',\n",
       " '201_mask.png',\n",
       " '202.png',\n",
       " '202_mask.png',\n",
       " '203.png',\n",
       " '203_mask.png',\n",
       " '204.png',\n",
       " '204_mask.png',\n",
       " '205.png',\n",
       " '205_mask.png',\n",
       " '206.png',\n",
       " '206_mask.png',\n",
       " '207.png',\n",
       " '207_mask.png',\n",
       " '208.png',\n",
       " '208_mask.png',\n",
       " '209.png',\n",
       " '209_mask.png',\n",
       " '210.png',\n",
       " '210_mask.png',\n",
       " '211.png',\n",
       " '211_mask.png',\n",
       " '212.png',\n",
       " '212_mask.png',\n",
       " '213.png',\n",
       " '213_mask.png',\n",
       " '214.png',\n",
       " '214_mask.png',\n",
       " '215.png',\n",
       " '215_mask.png',\n",
       " '216.png',\n",
       " '216_mask.png',\n",
       " '217.png',\n",
       " '217_mask.png',\n",
       " '218.png',\n",
       " '218_mask.png',\n",
       " '219.png',\n",
       " '219_mask.png',\n",
       " '220.png',\n",
       " '220_mask.png',\n",
       " '221.png',\n",
       " '221_mask.png',\n",
       " '222.png',\n",
       " '222_mask.png',\n",
       " '223.png',\n",
       " '223_mask.png',\n",
       " '224.png',\n",
       " '224_mask.png',\n",
       " '225.png',\n",
       " '225_mask.png',\n",
       " '226.png',\n",
       " '226_mask.png',\n",
       " '227.png',\n",
       " '227_mask.png',\n",
       " '228.png',\n",
       " '228_mask.png',\n",
       " '229.png',\n",
       " '229_mask.png',\n",
       " '230.png',\n",
       " '230_mask.png',\n",
       " '231.png',\n",
       " '231_mask.png',\n",
       " '232.png',\n",
       " '232_mask.png',\n",
       " '233.png',\n",
       " '233_mask.png',\n",
       " '234.png',\n",
       " '234_mask.png',\n",
       " '235.png',\n",
       " '235_mask.png',\n",
       " '236.png',\n",
       " '236_mask.png',\n",
       " '237.png',\n",
       " '237_mask.png',\n",
       " '238.png',\n",
       " '238_mask.png',\n",
       " '239.png',\n",
       " '239_mask.png',\n",
       " '240.png',\n",
       " '240_mask.png',\n",
       " '241.png',\n",
       " '241_mask.png',\n",
       " '242.png',\n",
       " '242_mask.png',\n",
       " '243.png',\n",
       " '243_mask.png',\n",
       " '244.png',\n",
       " '244_mask.png',\n",
       " '245.png',\n",
       " '245_mask.png',\n",
       " '246.png',\n",
       " '246_mask.png',\n",
       " '247.png',\n",
       " '247_mask.png',\n",
       " '248.png',\n",
       " '248_mask.png',\n",
       " '249.png',\n",
       " '249_mask.png',\n",
       " '250.png',\n",
       " '250_mask.png',\n",
       " '251.png',\n",
       " '251_mask.png',\n",
       " '252.png',\n",
       " '252_mask.png',\n",
       " '253.png',\n",
       " '253_mask.png',\n",
       " '254.png',\n",
       " '254_mask.png',\n",
       " '255.png',\n",
       " '255_mask.png',\n",
       " '256.png',\n",
       " '256_mask.png',\n",
       " '257.png',\n",
       " '257_mask.png',\n",
       " '258.png',\n",
       " '258_mask.png',\n",
       " '259.png',\n",
       " '259_mask.png',\n",
       " '260.png',\n",
       " '260_mask.png',\n",
       " '261.png',\n",
       " '261_mask.png',\n",
       " '262.png',\n",
       " '262_mask.png',\n",
       " '263.png',\n",
       " '263_mask.png',\n",
       " '264.png',\n",
       " '264_mask.png',\n",
       " '265.png',\n",
       " '265_mask.png',\n",
       " '266.png',\n",
       " '266_mask.png',\n",
       " '267.png',\n",
       " '267_mask.png',\n",
       " '268.png',\n",
       " '268_mask.png',\n",
       " '269.png',\n",
       " '269_mask.png',\n",
       " '270.png',\n",
       " '270_mask.png',\n",
       " '271.png',\n",
       " '271_mask.png',\n",
       " '272.png',\n",
       " '272_mask.png',\n",
       " '273.png',\n",
       " '273_mask.png',\n",
       " '274.png',\n",
       " '274_mask.png',\n",
       " '275.png',\n",
       " '275_mask.png',\n",
       " '276.png',\n",
       " '276_mask.png',\n",
       " '277.png',\n",
       " '277_mask.png',\n",
       " '278.png',\n",
       " '278_mask.png',\n",
       " '279.png',\n",
       " '279_mask.png',\n",
       " '280.png',\n",
       " '280_mask.png',\n",
       " '281.png',\n",
       " '281_mask.png',\n",
       " '282.png',\n",
       " '282_mask.png',\n",
       " '283.png',\n",
       " '283_mask.png',\n",
       " '284.png',\n",
       " '284_mask.png',\n",
       " '285.png',\n",
       " '285_mask.png',\n",
       " '286.png',\n",
       " '286_mask.png',\n",
       " '287.png',\n",
       " '287_mask.png',\n",
       " '288.png',\n",
       " '288_mask.png',\n",
       " '289.png',\n",
       " '289_mask.png',\n",
       " '290.png',\n",
       " '290_mask.png',\n",
       " '291.png',\n",
       " '291_mask.png',\n",
       " '292.png',\n",
       " '292_mask.png',\n",
       " '293.png',\n",
       " '293_mask.png',\n",
       " '294.png',\n",
       " '294_mask.png',\n",
       " '295.png',\n",
       " '295_mask.png',\n",
       " '296.png',\n",
       " '296_mask.png',\n",
       " '297.png',\n",
       " '297_mask.png',\n",
       " '298.png',\n",
       " '298_mask.png',\n",
       " '299.png',\n",
       " '299_mask.png',\n",
       " '300.png',\n",
       " '300_mask.png',\n",
       " '301.png',\n",
       " '301_mask.png',\n",
       " '302.png',\n",
       " '302_mask.png',\n",
       " '303.png',\n",
       " '303_mask.png',\n",
       " '304.png',\n",
       " '304_mask.png',\n",
       " '305.png',\n",
       " '305_mask.png',\n",
       " '306.png',\n",
       " '306_mask.png',\n",
       " '307.png',\n",
       " '307_mask.png',\n",
       " '308.png',\n",
       " '308_mask.png',\n",
       " '309.png',\n",
       " '309_mask.png',\n",
       " '310.png',\n",
       " '310_mask.png',\n",
       " '311.png',\n",
       " '311_mask.png',\n",
       " '312.png',\n",
       " '312_mask.png',\n",
       " '313.png',\n",
       " '313_mask.png',\n",
       " '314.png',\n",
       " '314_mask.png',\n",
       " '315.png',\n",
       " '315_mask.png',\n",
       " '316.png',\n",
       " '316_mask.png',\n",
       " '317.png',\n",
       " '317_mask.png',\n",
       " '318.png',\n",
       " '318_mask.png',\n",
       " '319.png',\n",
       " '319_mask.png',\n",
       " '320.png',\n",
       " '320_mask.png',\n",
       " '321.png',\n",
       " '321_mask.png',\n",
       " '322.png',\n",
       " '322_mask.png',\n",
       " '323.png',\n",
       " '323_mask.png',\n",
       " '324.png',\n",
       " '324_mask.png',\n",
       " '325.png',\n",
       " '325_mask.png',\n",
       " '326.png',\n",
       " '326_mask.png',\n",
       " '327.png',\n",
       " '327_mask.png',\n",
       " '328.png',\n",
       " '328_mask.png',\n",
       " '329.png',\n",
       " '329_mask.png',\n",
       " '330.png',\n",
       " '330_mask.png',\n",
       " '331.png',\n",
       " '331_mask.png',\n",
       " '332.png',\n",
       " '332_mask.png',\n",
       " '333.png',\n",
       " '333_mask.png',\n",
       " '334.png',\n",
       " '334_mask.png',\n",
       " '335.png',\n",
       " '335_mask.png',\n",
       " '336.png',\n",
       " '336_mask.png',\n",
       " '337.png',\n",
       " '337_mask.png',\n",
       " '338.png',\n",
       " '338_mask.png',\n",
       " '339.png',\n",
       " '339_mask.png',\n",
       " '340.png',\n",
       " '340_mask.png',\n",
       " '341.png',\n",
       " '341_mask.png',\n",
       " '342.png',\n",
       " '342_mask.png',\n",
       " '343.png',\n",
       " '343_mask.png',\n",
       " '344.png',\n",
       " '344_mask.png',\n",
       " '345.png',\n",
       " '345_mask.png',\n",
       " '346.png',\n",
       " '346_mask.png',\n",
       " '347.png',\n",
       " '347_mask.png',\n",
       " '348.png',\n",
       " '348_mask.png',\n",
       " '349.png',\n",
       " '349_mask.png',\n",
       " '350.png',\n",
       " '350_mask.png',\n",
       " '351.png',\n",
       " '351_mask.png',\n",
       " '352.png',\n",
       " '352_mask.png',\n",
       " '353.png',\n",
       " '353_mask.png',\n",
       " '354.png',\n",
       " '354_mask.png',\n",
       " '355.png',\n",
       " '355_mask.png',\n",
       " '356.png',\n",
       " '356_mask.png',\n",
       " '357.png',\n",
       " '357_mask.png',\n",
       " '358.png',\n",
       " '358_mask.png',\n",
       " '359.png',\n",
       " '359_mask.png',\n",
       " '360.png',\n",
       " '360_mask.png',\n",
       " '361.png',\n",
       " '361_mask.png',\n",
       " '362.png',\n",
       " '362_mask.png',\n",
       " '363.png',\n",
       " '363_mask.png',\n",
       " '364.png',\n",
       " '364_mask.png',\n",
       " '365.png',\n",
       " '365_mask.png',\n",
       " '366.png',\n",
       " '366_mask.png',\n",
       " '367.png',\n",
       " '367_mask.png',\n",
       " '368.png',\n",
       " '368_mask.png',\n",
       " '369.png',\n",
       " '369_mask.png',\n",
       " '370.png',\n",
       " '370_mask.png',\n",
       " '371.png',\n",
       " '371_mask.png',\n",
       " '372.png',\n",
       " '372_mask.png',\n",
       " '373.png',\n",
       " '373_mask.png',\n",
       " '374.png',\n",
       " '374_mask.png',\n",
       " '375.png',\n",
       " '375_mask.png',\n",
       " '376.png',\n",
       " '376_mask.png',\n",
       " '377.png',\n",
       " '377_mask.png',\n",
       " '378.png',\n",
       " '378_mask.png',\n",
       " '379.png',\n",
       " '379_mask.png',\n",
       " '380.png',\n",
       " '380_mask.png',\n",
       " '381.png',\n",
       " '381_mask.png',\n",
       " '382.png',\n",
       " '382_mask.png',\n",
       " '383.png',\n",
       " '383_mask.png',\n",
       " '384.png',\n",
       " '384_mask.png',\n",
       " '385.png',\n",
       " '385_mask.png',\n",
       " '386.png',\n",
       " '386_mask.png',\n",
       " '387.png',\n",
       " '387_mask.png',\n",
       " '388.png',\n",
       " '388_mask.png',\n",
       " '389.png',\n",
       " '389_mask.png',\n",
       " '390.png',\n",
       " '390_mask.png',\n",
       " '391.png',\n",
       " '391_mask.png',\n",
       " '392.png',\n",
       " '392_mask.png',\n",
       " '393.png',\n",
       " '393_mask.png',\n",
       " '394.png',\n",
       " '394_mask.png',\n",
       " '395.png',\n",
       " '395_mask.png',\n",
       " '396.png',\n",
       " '396_mask.png',\n",
       " '397.png',\n",
       " '397_mask.png',\n",
       " '398.png',\n",
       " '398_mask.png',\n",
       " '399.png',\n",
       " '399_mask.png']"
      ]
     },
     "execution_count": 2,
     "metadata": {},
     "output_type": "execute_result"
    }
   ],
   "source": [
    "os.listdir('E:/肝脏CT边缘分割/data/liver/liver/train/')"
   ]
  },
  {
   "cell_type": "code",
   "execution_count": 8,
   "id": "35a021fd",
   "metadata": {},
   "outputs": [],
   "source": [
    "def make_dataset(root):\n",
    "    imgs = []\n",
    "    labels=[]\n",
    "    n = len(os.listdir(root)) // 2  #因为数据集中一套训练数据包含有训练图和mask图，所以要除2\n",
    "    for i in range(n):\n",
    "        img = os.path.join(root, \"%03d.png\" % i)\n",
    "        mask = os.path.join(root, \"%03d_mask.png\" % i)\n",
    "        imgs.append(img)\n",
    "        labels.append(mask)\n",
    "    return imgs,labels\n",
    "root='E:/肝脏CT边缘分割/data/liver/liver/train/'\n",
    "root_test='E:/肝脏CT边缘分割/data/liver/liver/val/'\n",
    "train_imgs,train_labels=make_dataset(root)\n",
    "test_imgs,test_labels=make_dataset(root_test)\n",
    "\n"
   ]
  },
  {
   "cell_type": "code",
   "execution_count": 6,
   "id": "fdc65f34",
   "metadata": {},
   "outputs": [
    {
     "data": {
      "text/plain": [
       "['E:/肝脏CT边缘分割/data/liver/liver/train/000.png',\n",
       " 'E:/肝脏CT边缘分割/data/liver/liver/train/001.png',\n",
       " 'E:/肝脏CT边缘分割/data/liver/liver/train/002.png',\n",
       " 'E:/肝脏CT边缘分割/data/liver/liver/train/003.png',\n",
       " 'E:/肝脏CT边缘分割/data/liver/liver/train/004.png']"
      ]
     },
     "execution_count": 6,
     "metadata": {},
     "output_type": "execute_result"
    }
   ],
   "source": [
    "train_imgs[0:5]\n"
   ]
  },
  {
   "cell_type": "code",
   "execution_count": 7,
   "id": "3326e6a4",
   "metadata": {},
   "outputs": [
    {
     "data": {
      "text/plain": [
       "['E:/肝脏CT边缘分割/data/liver/liver/train/000_mask.png',\n",
       " 'E:/肝脏CT边缘分割/data/liver/liver/train/001_mask.png',\n",
       " 'E:/肝脏CT边缘分割/data/liver/liver/train/002_mask.png',\n",
       " 'E:/肝脏CT边缘分割/data/liver/liver/train/003_mask.png',\n",
       " 'E:/肝脏CT边缘分割/data/liver/liver/train/004_mask.png']"
      ]
     },
     "execution_count": 7,
     "metadata": {},
     "output_type": "execute_result"
    }
   ],
   "source": [
    "train_labels[0:5]"
   ]
  },
  {
   "cell_type": "code",
   "execution_count": 16,
   "id": "b99254de",
   "metadata": {},
   "outputs": [
    {
     "data": {
      "text/plain": [
       "255"
      ]
     },
     "execution_count": 16,
     "metadata": {},
     "output_type": "execute_result"
    }
   ],
   "source": [
    "im=Image.open('E:/肝脏CT边缘分割/data/liver/liver/train\\\\000_mask.png')\n",
    "im_array=np.array(im)\n",
    "np.max(im_array)"
   ]
  },
  {
   "cell_type": "code",
   "execution_count": 17,
   "id": "29a5efdd",
   "metadata": {},
   "outputs": [
    {
     "data": {
      "text/plain": [
       "array([  0, 255], dtype=uint8)"
      ]
     },
     "execution_count": 17,
     "metadata": {},
     "output_type": "execute_result"
    }
   ],
   "source": [
    "np.unique(im_array)"
   ]
  },
  {
   "cell_type": "code",
   "execution_count": 9,
   "id": "b656128f",
   "metadata": {},
   "outputs": [],
   "source": [
    "class LiverDataset(data.Dataset):\n",
    "    def __init__(self,img,mask,transformer):\n",
    "        self.img=img\n",
    "        self.mask=mask\n",
    "        self.transformer=transformer\n",
    "    def __getitem__(self,index):\n",
    "        img=self.img[index]\n",
    "        mask=self.mask[index]\n",
    "        \n",
    "        img_open=Image.open(img)\n",
    "        img_tensor=self.transformer(img_open)\n",
    "        \n",
    "        mask_open=Image.open(mask)\n",
    "        mask_tensor=self.transformer(mask_open)\n",
    "\n",
    "        mask_tensor=torch.squeeze(mask_tensor).type(torch.long)\n",
    "        \n",
    "        return img_tensor,mask_tensor\n",
    "    def __len__(self):\n",
    "        return len(self.img)"
   ]
  },
  {
   "cell_type": "code",
   "execution_count": 10,
   "id": "476e471b",
   "metadata": {},
   "outputs": [],
   "source": [
    "train_transforms= transforms.Compose([\n",
    "    transforms.Resize((128,128)),\n",
    "    transforms.ToTensor(),  # -> [0,1],\n",
    "])\n",
    "\n",
    "test_transforms = transforms.Compose([\n",
    "    transforms.Resize((128,128)),\n",
    "    transforms.ToTensor(),  # -> [0,1]\n",
    "])"
   ]
  },
  {
   "cell_type": "code",
   "execution_count": 11,
   "id": "4b6153bb",
   "metadata": {},
   "outputs": [],
   "source": [
    "train_data=LiverDataset(train_imgs,train_labels,train_transforms)\n",
    "test_data=LiverDataset(test_imgs,test_labels,test_transforms)"
   ]
  },
  {
   "cell_type": "code",
   "execution_count": 12,
   "id": "b33570c5",
   "metadata": {},
   "outputs": [],
   "source": [
    "dl_train=data.DataLoader(train_data,batch_size=16,shuffle=True)\n",
    "dl_test=data.DataLoader(test_data,batch_size=16,shuffle=True)"
   ]
  },
  {
   "cell_type": "code",
   "execution_count": 13,
   "id": "f0751088",
   "metadata": {},
   "outputs": [
    {
     "data": {
      "text/plain": [
       "(128, 128, 3)"
      ]
     },
     "execution_count": 13,
     "metadata": {},
     "output_type": "execute_result"
    },
    {
     "data": {
      "image/png": "[encoded data removed]",
      "text/plain": [
       "<Figure size 432x288 with 1 Axes>"
      ]
     },
     "metadata": {
      "needs_background": "light"
     },
     "output_type": "display_data"
    }
   ],
   "source": [
    "img,lable= next(iter(dl_train))\n",
    "img.shape\n",
    "a=img[0].permute(1,2,0).numpy()\n",
    "plt.imshow(a[::1])\n",
    "a.shape"
   ]
  },
  {
   "cell_type": "code",
   "execution_count": 14,
   "id": "55525fe8",
   "metadata": {},
   "outputs": [
    {
     "data": {
      "text/plain": [
       "torch.Size([16, 128, 128])"
      ]
     },
     "execution_count": 14,
     "metadata": {},
     "output_type": "execute_result"
    }
   ],
   "source": [
    "img,lable= next(iter(dl_train))\n",
    "lable.shape"
   ]
  },
  {
   "cell_type": "code",
   "execution_count": 15,
   "id": "8a67139c",
   "metadata": {},
   "outputs": [
    {
     "data": {
      "text/plain": [
       "tensor(1)"
      ]
     },
     "execution_count": 15,
     "metadata": {},
     "output_type": "execute_result"
    }
   ],
   "source": [
    "torch.max(lable[0])"
   ]
  },
  {
   "cell_type": "code",
   "execution_count": 39,
   "id": "045ff10d",
   "metadata": {
    "scrolled": false
   },
   "outputs": [],
   "source": [
    "import torchvision\n",
    "import segmentation_models_pytorch as smp\n",
    "model = smp.PSPNet(\n",
    "    encoder_name=\"resnet34\",        # choose encoder, e.g. mobilenet_v2 or efficientnet-b7\n",
    "    #encoder_weights=\"imagenet\",     # use `imagenet` pre-trained weights for encoder initialization\n",
    "    in_channels=3,                  # model input channels (1 for gray-scale images, 3 for RGB, etc.)\n",
    "    classes=2,                      # model output channels (number of classes in your dataset)\n",
    ")\n"
   ]
  },
  {
   "cell_type": "code",
   "execution_count": 18,
   "id": "74e2aeec",
   "metadata": {},
   "outputs": [
    {
     "ename": "NameError",
     "evalue": "name 'model' is not defined",
     "output_type": "error",
     "traceback": [
      "\u001b[1;31m---------------------------------------------------------------------------\u001b[0m",
      "\u001b[1;31mNameError\u001b[0m                                 Traceback (most recent call last)",
      "\u001b[1;32m<ipython-input-18-08b727236cfe>\u001b[0m in \u001b[0;36m<module>\u001b[1;34m\u001b[0m\n\u001b[0;32m      1\u001b[0m \u001b[0mimg\u001b[0m\u001b[1;33m,\u001b[0m\u001b[0mlable\u001b[0m\u001b[1;33m=\u001b[0m \u001b[0mnext\u001b[0m\u001b[1;33m(\u001b[0m\u001b[0miter\u001b[0m\u001b[1;33m(\u001b[0m\u001b[0mdl_train\u001b[0m\u001b[1;33m)\u001b[0m\u001b[1;33m)\u001b[0m\u001b[1;33m\u001b[0m\u001b[1;33m\u001b[0m\u001b[0m\n\u001b[0;32m      2\u001b[0m \u001b[0mimg\u001b[0m\u001b[1;33m=\u001b[0m\u001b[0mimg\u001b[0m\u001b[1;33m.\u001b[0m\u001b[0mto\u001b[0m\u001b[1;33m(\u001b[0m\u001b[1;34m'cuda'\u001b[0m\u001b[1;33m)\u001b[0m\u001b[1;33m\u001b[0m\u001b[1;33m\u001b[0m\u001b[0m\n\u001b[1;32m----> 3\u001b[1;33m \u001b[0mmodel\u001b[0m\u001b[1;33m.\u001b[0m\u001b[0mto\u001b[0m\u001b[1;33m(\u001b[0m\u001b[1;34m'cuda'\u001b[0m\u001b[1;33m)\u001b[0m\u001b[1;33m\u001b[0m\u001b[1;33m\u001b[0m\u001b[0m\n\u001b[0m\u001b[0;32m      4\u001b[0m \u001b[0mpred\u001b[0m\u001b[1;33m=\u001b[0m\u001b[0mmodel\u001b[0m\u001b[1;33m(\u001b[0m\u001b[0mimg\u001b[0m\u001b[1;33m)\u001b[0m\u001b[1;33m\u001b[0m\u001b[1;33m\u001b[0m\u001b[0m\n\u001b[0;32m      5\u001b[0m \u001b[0mpred\u001b[0m\u001b[1;33m.\u001b[0m\u001b[0mshape\u001b[0m\u001b[1;33m\u001b[0m\u001b[1;33m\u001b[0m\u001b[0m\n",
      "\u001b[1;31mNameError\u001b[0m: name 'model' is not defined"
     ]
    }
   ],
   "source": [
    "img,lable= next(iter(dl_train))\n",
    "img=img.to('cuda')\n",
    "model.to('cuda')\n",
    "pred=model(img)\n",
    "pred.shape"
   ]
  },
  {
   "cell_type": "code",
   "execution_count": null,
   "id": "60b7f095",
   "metadata": {},
   "outputs": [],
   "source": [
    "import torch\n",
    "if torch.cuda.is_available():\n",
    "    model.to('cuda')"
   ]
  },
  {
   "cell_type": "code",
   "execution_count": null,
   "id": "cf2dddb3",
   "metadata": {},
   "outputs": [],
   "source": [
    "from torch.optim import lr_scheduler\n",
    "optimizer = torch.optim.Adam(model.parameters(), lr=0.001)\n",
    "exp_lr_scheduler = lr_scheduler.StepLR(optim, step_size=7, gamma=0.1)"
   ]
  },
  {
   "cell_type": "code",
   "execution_count": null,
   "id": "93de09a8",
   "metadata": {},
   "outputs": [],
   "source": [
    "loss_fn = nn.CrossEntropyLoss()"
   ]
  },
  {
   "cell_type": "code",
   "execution_count": null,
   "id": "cb0db980",
   "metadata": {},
   "outputs": [],
   "source": [
    "from tqdm import tqdm\n",
    "def fit(epoch, model, trainloader, testloader):\n",
    "    correct = 0\n",
    "    total = 0\n",
    "    running_loss = 0\n",
    "    epoch_iou = []\n",
    "    \n",
    "    model.train()\n",
    "    for x, y in tqdm(testloader):\n",
    " \n",
    "        x, y = x.to('cuda'), y.to('cuda')\n",
    "        y_pred = model(x)\n",
    "        loss = loss_fn(y_pred, y)\n",
    "        optimizer.zero_grad()\n",
    "        loss.backward()\n",
    "        optimizer.step()\n",
    "        with torch.no_grad():\n",
    "            y_pred = torch.argmax(y_pred, dim=1)\n",
    "            correct += (y_pred == y).sum().item()\n",
    "            total += y.size(0)\n",
    "            running_loss += loss.item()\n",
    "            \n",
    "            intersection = torch.logical_and(y, y_pred)\n",
    "            union = torch.logical_or(y, y_pred)\n",
    "            batch_iou = torch.sum(intersection) / torch.sum(union)\n",
    "            epoch_iou.append(batch_iou.item())\n",
    "            \n",
    "    epoch_loss = running_loss / len(trainloader.dataset)\n",
    "    epoch_acc = correct / (total*256*256)\n",
    "        \n",
    "        \n",
    "    test_correct = 0\n",
    "    test_total = 0\n",
    "    test_running_loss = 0 \n",
    "    epoch_test_iou = []\n",
    "    \n",
    "    model.eval()\n",
    "    with torch.no_grad():\n",
    "        for x, y in tqdm(testloader):\n",
    "\n",
    "            x, y = x.to('cuda'), y.to('cuda')\n",
    "            y_pred = model(x)\n",
    "            loss = loss_fn(y_pred, y)\n",
    "            y_pred = torch.argmax(y_pred, dim=1)\n",
    "            test_correct += (y_pred == y).sum().item()\n",
    "            test_total += y.size(0)\n",
    "            test_running_loss += loss.item()\n",
    "            \n",
    "            intersection = torch.logical_and(y, y_pred)\n",
    "            union = torch.logical_or(y, y_pred)\n",
    "            batch_iou = torch.sum(intersection) / torch.sum(union)\n",
    "            epoch_test_iou.append(batch_iou.item())\n",
    "            \n",
    "    \n",
    "    epoch_test_loss = test_running_loss / len(testloader.dataset)\n",
    "    epoch_test_acc = test_correct / (test_total*256*256)\n",
    "    \n",
    "    \n",
    "    print('epoch: ', epoch, \n",
    "          'loss： ', round(epoch_loss, 3),\n",
    "          'accuracy:', round(epoch_acc, 3),\n",
    "          'IOU:', round(np.mean(epoch_iou), 3),\n",
    "          'test_loss： ', round(epoch_test_loss, 3),\n",
    "          'test_accuracy:', round(epoch_test_acc, 3),\n",
    "           'test_iou:', round(np.mean(epoch_test_iou), 3)\n",
    "             )\n",
    "        \n",
    "    return epoch_loss, epoch_acc, epoch_test_loss, epoch_test_acc"
   ]
  },
  {
   "cell_type": "code",
   "execution_count": 19,
   "id": "c0bc1f29",
   "metadata": {},
   "outputs": [
    {
     "data": {
      "text/plain": [
       "400"
      ]
     },
     "execution_count": 19,
     "metadata": {},
     "output_type": "execute_result"
    }
   ],
   "source": [
    "len(train_data)"
   ]
  },
  {
   "cell_type": "code",
   "execution_count": 52,
   "id": "227486f9",
   "metadata": {},
   "outputs": [],
   "source": [
    "epochs =50 "
   ]
  },
  {
   "cell_type": "code",
   "execution_count": 53,
   "id": "d6fce139",
   "metadata": {
    "scrolled": false
   },
   "outputs": [
    {
     "name": "stderr",
     "output_type": "stream",
     "text": [
      "100%|████████████████████████████████████████████████████████████████████████████████████| 2/2 [00:00<00:00,  9.76it/s]\n",
      "100%|████████████████████████████████████████████████████████████████████████████████████| 2/2 [00:00<00:00, 13.42it/s]\n",
      "100%|████████████████████████████████████████████████████████████████████████████████████| 2/2 [00:00<00:00, 11.90it/s]\n",
      "  0%|                                                                                            | 0/2 [00:00<?, ?it/s]"
     ]
    },
    {
     "name": "stdout",
     "output_type": "stream",
     "text": [
      "epoch:  0 loss：  0.002 accuracy: 0.144 IOU: 0.191 test_loss：  0.02 test_accuracy: 0.235 test_iou: 0.0\n"
     ]
    },
    {
     "name": "stderr",
     "output_type": "stream",
     "text": [
      "100%|████████████████████████████████████████████████████████████████████████████████████| 2/2 [00:00<00:00, 13.79it/s]\n",
      "100%|████████████████████████████████████████████████████████████████████████████████████| 2/2 [00:00<00:00, 11.70it/s]\n",
      "  0%|                                                                                            | 0/2 [00:00<?, ?it/s]"
     ]
    },
    {
     "name": "stdout",
     "output_type": "stream",
     "text": [
      "epoch:  1 loss：  0.0 accuracy: 0.242 IOU: 0.555 test_loss：  0.011 test_accuracy: 0.236 test_iou: 0.077\n"
     ]
    },
    {
     "name": "stderr",
     "output_type": "stream",
     "text": [
      "100%|████████████████████████████████████████████████████████████████████████████████████| 2/2 [00:00<00:00, 13.70it/s]\n",
      "100%|████████████████████████████████████████████████████████████████████████████████████| 2/2 [00:00<00:00, 10.81it/s]"
     ]
    },
    {
     "name": "stdout",
     "output_type": "stream",
     "text": [
      "epoch:  2 loss：  0.0 accuracy: 0.246 IOU: 0.758 test_loss：  0.007 test_accuracy: 0.244 test_iou: 0.592\n"
     ]
    },
    {
     "name": "stderr",
     "output_type": "stream",
     "text": [
      "\n",
      "100%|████████████████████████████████████████████████████████████████████████████████████| 2/2 [00:00<00:00, 15.04it/s]\n",
      "100%|████████████████████████████████████████████████████████████████████████████████████| 2/2 [00:00<00:00, 12.90it/s]\n",
      "  0%|                                                                                            | 0/2 [00:00<?, ?it/s]"
     ]
    },
    {
     "name": "stdout",
     "output_type": "stream",
     "text": [
      "epoch:  3 loss：  0.0 accuracy: 0.248 IOU: 0.853 test_loss：  0.006 test_accuracy: 0.246 test_iou: 0.745\n"
     ]
    },
    {
     "name": "stderr",
     "output_type": "stream",
     "text": [
      "100%|████████████████████████████████████████████████████████████████████████████████████| 2/2 [00:00<00:00, 15.27it/s]\n",
      "100%|████████████████████████████████████████████████████████████████████████████████████| 2/2 [00:00<00:00, 12.27it/s]\n",
      "  0%|                                                                                            | 0/2 [00:00<?, ?it/s]"
     ]
    },
    {
     "name": "stdout",
     "output_type": "stream",
     "text": [
      "epoch:  4 loss：  0.0 accuracy: 0.248 IOU: 0.857 test_loss：  0.005 test_accuracy: 0.246 test_iou: 0.733\n"
     ]
    },
    {
     "name": "stderr",
     "output_type": "stream",
     "text": [
      "100%|████████████████████████████████████████████████████████████████████████████████████| 2/2 [00:00<00:00, 13.70it/s]\n",
      "100%|████████████████████████████████████████████████████████████████████████████████████| 2/2 [00:00<00:00, 11.05it/s]"
     ]
    },
    {
     "name": "stdout",
     "output_type": "stream",
     "text": [
      "epoch:  5 loss：  0.0 accuracy: 0.248 IOU: 0.869 test_loss：  0.004 test_accuracy: 0.246 test_iou: 0.731\n"
     ]
    },
    {
     "name": "stderr",
     "output_type": "stream",
     "text": [
      "\n",
      "100%|████████████████████████████████████████████████████████████████████████████████████| 2/2 [00:00<00:00, 14.29it/s]\n",
      "100%|████████████████████████████████████████████████████████████████████████████████████| 2/2 [00:00<00:00, 10.31it/s]"
     ]
    },
    {
     "name": "stdout",
     "output_type": "stream",
     "text": [
      "epoch:  6 loss：  0.0 accuracy: 0.248 IOU: 0.822 test_loss：  0.003 test_accuracy: 0.247 test_iou: 0.813\n"
     ]
    },
    {
     "name": "stderr",
     "output_type": "stream",
     "text": [
      "\n",
      "100%|████████████████████████████████████████████████████████████████████████████████████| 2/2 [00:00<00:00, 13.79it/s]\n",
      "100%|████████████████████████████████████████████████████████████████████████████████████| 2/2 [00:00<00:00, 12.50it/s]\n",
      "  0%|                                                                                            | 0/2 [00:00<?, ?it/s]"
     ]
    },
    {
     "name": "stdout",
     "output_type": "stream",
     "text": [
      "epoch:  7 loss：  0.0 accuracy: 0.248 IOU: 0.884 test_loss：  0.004 test_accuracy: 0.246 test_iou: 0.801\n"
     ]
    },
    {
     "name": "stderr",
     "output_type": "stream",
     "text": [
      "100%|████████████████████████████████████████████████████████████████████████████████████| 2/2 [00:00<00:00, 14.71it/s]\n",
      "100%|████████████████████████████████████████████████████████████████████████████████████| 2/2 [00:00<00:00, 12.12it/s]\n",
      "  0%|                                                                                            | 0/2 [00:00<?, ?it/s]"
     ]
    },
    {
     "name": "stdout",
     "output_type": "stream",
     "text": [
      "epoch:  8 loss：  0.0 accuracy: 0.248 IOU: 0.883 test_loss：  0.003 test_accuracy: 0.247 test_iou: 0.841\n"
     ]
    },
    {
     "name": "stderr",
     "output_type": "stream",
     "text": [
      "100%|████████████████████████████████████████████████████████████████████████████████████| 2/2 [00:00<00:00, 14.39it/s]\n",
      "100%|████████████████████████████████████████████████████████████████████████████████████| 2/2 [00:00<00:00, 11.90it/s]\n",
      "  0%|                                                                                            | 0/2 [00:00<?, ?it/s]"
     ]
    },
    {
     "name": "stdout",
     "output_type": "stream",
     "text": [
      "epoch:  9 loss：  0.0 accuracy: 0.248 IOU: 0.88 test_loss：  0.002 test_accuracy: 0.248 test_iou: 0.839\n"
     ]
    },
    {
     "name": "stderr",
     "output_type": "stream",
     "text": [
      "100%|████████████████████████████████████████████████████████████████████████████████████| 2/2 [00:00<00:00, 13.99it/s]\n",
      "100%|████████████████████████████████████████████████████████████████████████████████████| 2/2 [00:00<00:00, 10.87it/s]"
     ]
    },
    {
     "name": "stdout",
     "output_type": "stream",
     "text": [
      "epoch:  10 loss：  0.0 accuracy: 0.248 IOU: 0.867 test_loss：  0.002 test_accuracy: 0.248 test_iou: 0.85\n"
     ]
    },
    {
     "name": "stderr",
     "output_type": "stream",
     "text": [
      "\n",
      "100%|████████████████████████████████████████████████████████████████████████████████████| 2/2 [00:00<00:00, 14.93it/s]\n",
      "100%|████████████████████████████████████████████████████████████████████████████████████| 2/2 [00:00<00:00, 11.90it/s]\n",
      "  0%|                                                                                            | 0/2 [00:00<?, ?it/s]"
     ]
    },
    {
     "name": "stdout",
     "output_type": "stream",
     "text": [
      "epoch:  11 loss：  0.0 accuracy: 0.248 IOU: 0.868 test_loss：  0.002 test_accuracy: 0.248 test_iou: 0.875\n"
     ]
    },
    {
     "name": "stderr",
     "output_type": "stream",
     "text": [
      "100%|████████████████████████████████████████████████████████████████████████████████████| 2/2 [00:00<00:00, 15.50it/s]\n",
      "100%|████████████████████████████████████████████████████████████████████████████████████| 2/2 [00:00<00:00, 12.20it/s]\n",
      "  0%|                                                                                            | 0/2 [00:00<?, ?it/s]"
     ]
    },
    {
     "name": "stdout",
     "output_type": "stream",
     "text": [
      "epoch:  12 loss：  0.0 accuracy: 0.248 IOU: 0.903 test_loss：  0.002 test_accuracy: 0.248 test_iou: 0.882\n"
     ]
    },
    {
     "name": "stderr",
     "output_type": "stream",
     "text": [
      "100%|████████████████████████████████████████████████████████████████████████████████████| 2/2 [00:00<00:00, 14.60it/s]\n",
      "100%|████████████████████████████████████████████████████████████████████████████████████| 2/2 [00:00<00:00, 11.70it/s]\n"
     ]
    },
    {
     "name": "stdout",
     "output_type": "stream",
     "text": [
      "epoch:  13 loss：  0.0 accuracy: 0.248 IOU: 0.905 test_loss：  0.002 test_accuracy: 0.248 test_iou: 0.868\n"
     ]
    },
    {
     "name": "stderr",
     "output_type": "stream",
     "text": [
      "100%|████████████████████████████████████████████████████████████████████████████████████| 2/2 [00:00<00:00, 14.39it/s]\n",
      "100%|████████████████████████████████████████████████████████████████████████████████████| 2/2 [00:00<00:00, 11.24it/s]\n",
      "  0%|                                                                                            | 0/2 [00:00<?, ?it/s]"
     ]
    },
    {
     "name": "stdout",
     "output_type": "stream",
     "text": [
      "epoch:  14 loss：  0.0 accuracy: 0.249 IOU: 0.895 test_loss：  0.002 test_accuracy: 0.248 test_iou: 0.832\n"
     ]
    },
    {
     "name": "stderr",
     "output_type": "stream",
     "text": [
      "100%|████████████████████████████████████████████████████████████████████████████████████| 2/2 [00:00<00:00, 14.29it/s]\n",
      "100%|████████████████████████████████████████████████████████████████████████████████████| 2/2 [00:00<00:00, 10.87it/s]"
     ]
    },
    {
     "name": "stdout",
     "output_type": "stream",
     "text": [
      "epoch:  15 loss：  0.0 accuracy: 0.248 IOU: 0.89 test_loss：  0.002 test_accuracy: 0.248 test_iou: 0.837\n"
     ]
    },
    {
     "name": "stderr",
     "output_type": "stream",
     "text": [
      "\n",
      "100%|████████████████████████████████████████████████████████████████████████████████████| 2/2 [00:00<00:00, 14.18it/s]\n",
      "100%|████████████████████████████████████████████████████████████████████████████████████| 2/2 [00:00<00:00, 11.63it/s]\n",
      "  0%|                                                                                            | 0/2 [00:00<?, ?it/s]"
     ]
    },
    {
     "name": "stdout",
     "output_type": "stream",
     "text": [
      "epoch:  16 loss：  0.0 accuracy: 0.248 IOU: 0.9 test_loss：  0.002 test_accuracy: 0.248 test_iou: 0.889\n"
     ]
    },
    {
     "name": "stderr",
     "output_type": "stream",
     "text": [
      "100%|████████████████████████████████████████████████████████████████████████████████████| 2/2 [00:00<00:00, 14.29it/s]\n",
      "100%|████████████████████████████████████████████████████████████████████████████████████| 2/2 [00:00<00:00, 10.64it/s]"
     ]
    },
    {
     "name": "stdout",
     "output_type": "stream",
     "text": [
      "epoch:  17 loss：  0.0 accuracy: 0.249 IOU: 0.902 test_loss：  0.001 test_accuracy: 0.249 test_iou: 0.912\n"
     ]
    },
    {
     "name": "stderr",
     "output_type": "stream",
     "text": [
      "\n",
      "100%|████████████████████████████████████████████████████████████████████████████████████| 2/2 [00:00<00:00, 11.76it/s]\n",
      "100%|████████████████████████████████████████████████████████████████████████████████████| 2/2 [00:00<00:00, 12.35it/s]\n",
      "  0%|                                                                                            | 0/2 [00:00<?, ?it/s]"
     ]
    },
    {
     "name": "stdout",
     "output_type": "stream",
     "text": [
      "epoch:  18 loss：  0.0 accuracy: 0.249 IOU: 0.913 test_loss：  0.001 test_accuracy: 0.248 test_iou: 0.89\n"
     ]
    },
    {
     "name": "stderr",
     "output_type": "stream",
     "text": [
      "100%|████████████████████████████████████████████████████████████████████████████████████| 2/2 [00:00<00:00, 12.82it/s]\n",
      "100%|████████████████████████████████████████████████████████████████████████████████████| 2/2 [00:00<00:00, 12.27it/s]\n",
      "  0%|                                                                                            | 0/2 [00:00<?, ?it/s]"
     ]
    },
    {
     "name": "stdout",
     "output_type": "stream",
     "text": [
      "epoch:  19 loss：  0.0 accuracy: 0.248 IOU: 0.909 test_loss：  0.001 test_accuracy: 0.249 test_iou: 0.901\n"
     ]
    },
    {
     "name": "stderr",
     "output_type": "stream",
     "text": [
      "100%|████████████████████████████████████████████████████████████████████████████████████| 2/2 [00:00<00:00, 14.18it/s]\n",
      "100%|████████████████████████████████████████████████████████████████████████████████████| 2/2 [00:00<00:00, 12.35it/s]\n",
      "  0%|                                                                                            | 0/2 [00:00<?, ?it/s]"
     ]
    },
    {
     "name": "stdout",
     "output_type": "stream",
     "text": [
      "epoch:  20 loss：  0.0 accuracy: 0.249 IOU: 0.905 test_loss：  0.002 test_accuracy: 0.248 test_iou: 0.866\n"
     ]
    },
    {
     "name": "stderr",
     "output_type": "stream",
     "text": [
      "100%|████████████████████████████████████████████████████████████████████████████████████| 2/2 [00:00<00:00, 15.04it/s]\n",
      " 50%|██████████████████████████████████████████                                          | 1/2 [00:00<00:00,  7.41it/s]"
     ]
    },
    {
     "name": "stdout",
     "output_type": "stream",
     "text": [
      "epoch:  21 loss：  0.0 accuracy: 0.249 IOU: 0.905 test_loss：  0.002 test_accuracy: 0.248 test_iou: 0.897\n"
     ]
    },
    {
     "name": "stderr",
     "output_type": "stream",
     "text": [
      "100%|████████████████████████████████████████████████████████████████████████████████████| 2/2 [00:00<00:00, 10.75it/s]\n",
      "100%|████████████████████████████████████████████████████████████████████████████████████| 2/2 [00:00<00:00, 14.49it/s]\n",
      "100%|████████████████████████████████████████████████████████████████████████████████████| 2/2 [00:00<00:00, 12.34it/s]\n",
      "  0%|                                                                                            | 0/2 [00:00<?, ?it/s]"
     ]
    },
    {
     "name": "stdout",
     "output_type": "stream",
     "text": [
      "epoch:  22 loss：  0.0 accuracy: 0.249 IOU: 0.907 test_loss：  0.001 test_accuracy: 0.249 test_iou: 0.919\n"
     ]
    },
    {
     "name": "stderr",
     "output_type": "stream",
     "text": [
      "100%|████████████████████████████████████████████████████████████████████████████████████| 2/2 [00:00<00:00, 15.38it/s]\n",
      "100%|████████████████████████████████████████████████████████████████████████████████████| 2/2 [00:00<00:00, 12.35it/s]\n",
      "  0%|                                                                                            | 0/2 [00:00<?, ?it/s]"
     ]
    },
    {
     "name": "stdout",
     "output_type": "stream",
     "text": [
      "epoch:  23 loss：  0.0 accuracy: 0.249 IOU: 0.913 test_loss：  0.001 test_accuracy: 0.249 test_iou: 0.918\n"
     ]
    },
    {
     "name": "stderr",
     "output_type": "stream",
     "text": [
      "100%|████████████████████████████████████████████████████████████████████████████████████| 2/2 [00:00<00:00, 14.39it/s]\n",
      "100%|████████████████████████████████████████████████████████████████████████████████████| 2/2 [00:00<00:00, 11.56it/s]\n",
      "  0%|                                                                                            | 0/2 [00:00<?, ?it/s]"
     ]
    },
    {
     "name": "stdout",
     "output_type": "stream",
     "text": [
      "epoch:  24 loss：  0.0 accuracy: 0.249 IOU: 0.91 test_loss：  0.002 test_accuracy: 0.248 test_iou: 0.894\n"
     ]
    },
    {
     "name": "stderr",
     "output_type": "stream",
     "text": [
      "100%|████████████████████████████████████████████████████████████████████████████████████| 2/2 [00:00<00:00, 14.29it/s]\n",
      "100%|████████████████████████████████████████████████████████████████████████████████████| 2/2 [00:00<00:00, 10.93it/s]\n"
     ]
    },
    {
     "name": "stdout",
     "output_type": "stream",
     "text": [
      "epoch:  25 loss：  0.0 accuracy: 0.249 IOU: 0.922 test_loss：  0.002 test_accuracy: 0.248 test_iou: 0.855\n"
     ]
    },
    {
     "name": "stderr",
     "output_type": "stream",
     "text": [
      "100%|████████████████████████████████████████████████████████████████████████████████████| 2/2 [00:00<00:00, 13.89it/s]\n",
      "100%|████████████████████████████████████████████████████████████████████████████████████| 2/2 [00:00<00:00, 12.35it/s]\n",
      "  0%|                                                                                            | 0/2 [00:00<?, ?it/s]"
     ]
    },
    {
     "name": "stdout",
     "output_type": "stream",
     "text": [
      "epoch:  26 loss：  0.0 accuracy: 0.249 IOU: 0.909 test_loss：  0.002 test_accuracy: 0.248 test_iou: 0.854\n"
     ]
    },
    {
     "name": "stderr",
     "output_type": "stream",
     "text": [
      "100%|████████████████████████████████████████████████████████████████████████████████████| 2/2 [00:00<00:00, 14.19it/s]\n",
      "100%|████████████████████████████████████████████████████████████████████████████████████| 2/2 [00:00<00:00, 12.42it/s]\n",
      "  0%|                                                                                            | 0/2 [00:00<?, ?it/s]"
     ]
    },
    {
     "name": "stdout",
     "output_type": "stream",
     "text": [
      "epoch:  27 loss：  0.0 accuracy: 0.249 IOU: 0.904 test_loss：  0.002 test_accuracy: 0.248 test_iou: 0.864\n"
     ]
    },
    {
     "name": "stderr",
     "output_type": "stream",
     "text": [
      "100%|████████████████████████████████████████████████████████████████████████████████████| 2/2 [00:00<00:00, 13.07it/s]\n",
      "100%|████████████████████████████████████████████████████████████████████████████████████| 2/2 [00:00<00:00, 12.12it/s]\n",
      "  0%|                                                                                            | 0/2 [00:00<?, ?it/s]"
     ]
    },
    {
     "name": "stdout",
     "output_type": "stream",
     "text": [
      "epoch:  28 loss：  0.0 accuracy: 0.249 IOU: 0.895 test_loss：  0.001 test_accuracy: 0.249 test_iou: 0.923\n"
     ]
    },
    {
     "name": "stderr",
     "output_type": "stream",
     "text": [
      "100%|████████████████████████████████████████████████████████████████████████████████████| 2/2 [00:00<00:00, 14.29it/s]\n",
      "100%|████████████████████████████████████████████████████████████████████████████████████| 2/2 [00:00<00:00, 10.93it/s]"
     ]
    },
    {
     "name": "stdout",
     "output_type": "stream",
     "text": [
      "epoch:  29 loss：  0.0 accuracy: 0.249 IOU: 0.918 test_loss：  0.001 test_accuracy: 0.249 test_iou: 0.921\n"
     ]
    },
    {
     "name": "stderr",
     "output_type": "stream",
     "text": [
      "\n",
      "100%|████████████████████████████████████████████████████████████████████████████████████| 2/2 [00:00<00:00, 14.81it/s]\n",
      "100%|████████████████████████████████████████████████████████████████████████████████████| 2/2 [00:00<00:00, 11.36it/s]"
     ]
    },
    {
     "name": "stdout",
     "output_type": "stream",
     "text": [
      "epoch:  30 loss：  0.0 accuracy: 0.249 IOU: 0.886 test_loss：  0.001 test_accuracy: 0.249 test_iou: 0.917\n"
     ]
    },
    {
     "name": "stderr",
     "output_type": "stream",
     "text": [
      "\n",
      "100%|████████████████████████████████████████████████████████████████████████████████████| 2/2 [00:00<00:00, 13.33it/s]\n",
      "100%|████████████████████████████████████████████████████████████████████████████████████| 2/2 [00:00<00:00, 11.36it/s]\n",
      "  0%|                                                                                            | 0/2 [00:00<?, ?it/s]"
     ]
    },
    {
     "name": "stdout",
     "output_type": "stream",
     "text": [
      "epoch:  31 loss：  0.0 accuracy: 0.249 IOU: 0.912 test_loss：  0.001 test_accuracy: 0.248 test_iou: 0.89\n"
     ]
    },
    {
     "name": "stderr",
     "output_type": "stream",
     "text": [
      "100%|████████████████████████████████████████████████████████████████████████████████████| 2/2 [00:00<00:00, 13.99it/s]\n",
      "100%|████████████████████████████████████████████████████████████████████████████████████| 2/2 [00:00<00:00, 10.81it/s]"
     ]
    },
    {
     "name": "stdout",
     "output_type": "stream",
     "text": [
      "epoch:  32 loss：  0.0 accuracy: 0.249 IOU: 0.917 test_loss：  0.001 test_accuracy: 0.249 test_iou: 0.905\n"
     ]
    },
    {
     "name": "stderr",
     "output_type": "stream",
     "text": [
      "\n",
      "100%|████████████████████████████████████████████████████████████████████████████████████| 2/2 [00:00<00:00, 13.51it/s]\n",
      "100%|████████████████████████████████████████████████████████████████████████████████████| 2/2 [00:00<00:00, 10.99it/s]"
     ]
    },
    {
     "name": "stdout",
     "output_type": "stream",
     "text": [
      "epoch:  33 loss：  0.0 accuracy: 0.249 IOU: 0.915 test_loss：  0.001 test_accuracy: 0.249 test_iou: 0.936\n"
     ]
    },
    {
     "name": "stderr",
     "output_type": "stream",
     "text": [
      "\n",
      "100%|████████████████████████████████████████████████████████████████████████████████████| 2/2 [00:00<00:00, 14.18it/s]\n",
      "100%|████████████████████████████████████████████████████████████████████████████████████| 2/2 [00:00<00:00, 11.56it/s]\n",
      "  0%|                                                                                            | 0/2 [00:00<?, ?it/s]"
     ]
    },
    {
     "name": "stdout",
     "output_type": "stream",
     "text": [
      "epoch:  34 loss：  0.0 accuracy: 0.249 IOU: 0.927 test_loss：  0.001 test_accuracy: 0.249 test_iou: 0.927\n"
     ]
    },
    {
     "name": "stderr",
     "output_type": "stream",
     "text": [
      "100%|████████████████████████████████████████████████████████████████████████████████████| 2/2 [00:00<00:00, 13.99it/s]\n",
      "100%|████████████████████████████████████████████████████████████████████████████████████| 2/2 [00:00<00:00, 12.74it/s]\n",
      "  0%|                                                                                            | 0/2 [00:00<?, ?it/s]"
     ]
    },
    {
     "name": "stdout",
     "output_type": "stream",
     "text": [
      "epoch:  35 loss：  0.0 accuracy: 0.249 IOU: 0.921 test_loss：  0.001 test_accuracy: 0.249 test_iou: 0.936\n"
     ]
    },
    {
     "name": "stderr",
     "output_type": "stream",
     "text": [
      "100%|████████████████████████████████████████████████████████████████████████████████████| 2/2 [00:00<00:00, 14.93it/s]\n",
      "100%|████████████████████████████████████████████████████████████████████████████████████| 2/2 [00:00<00:00, 10.26it/s]"
     ]
    },
    {
     "name": "stdout",
     "output_type": "stream",
     "text": [
      "epoch:  36 loss：  0.0 accuracy: 0.249 IOU: 0.928 test_loss：  0.001 test_accuracy: 0.249 test_iou: 0.927\n"
     ]
    },
    {
     "name": "stderr",
     "output_type": "stream",
     "text": [
      "\n",
      "100%|████████████████████████████████████████████████████████████████████████████████████| 2/2 [00:00<00:00, 14.09it/s]\n",
      "100%|████████████████████████████████████████████████████████████████████████████████████| 2/2 [00:00<00:00, 12.58it/s]\n",
      "  0%|                                                                                            | 0/2 [00:00<?, ?it/s]"
     ]
    },
    {
     "name": "stdout",
     "output_type": "stream",
     "text": [
      "epoch:  37 loss：  0.0 accuracy: 0.249 IOU: 0.922 test_loss：  0.001 test_accuracy: 0.249 test_iou: 0.923\n"
     ]
    },
    {
     "name": "stderr",
     "output_type": "stream",
     "text": [
      "100%|████████████████████████████████████████████████████████████████████████████████████| 2/2 [00:00<00:00, 14.93it/s]\n",
      "100%|████████████████████████████████████████████████████████████████████████████████████| 2/2 [00:00<00:00, 12.35it/s]\n",
      "  0%|                                                                                            | 0/2 [00:00<?, ?it/s]"
     ]
    },
    {
     "name": "stdout",
     "output_type": "stream",
     "text": [
      "epoch:  38 loss：  0.0 accuracy: 0.249 IOU: 0.923 test_loss：  0.001 test_accuracy: 0.249 test_iou: 0.935\n"
     ]
    },
    {
     "name": "stderr",
     "output_type": "stream",
     "text": [
      "100%|████████████████████████████████████████████████████████████████████████████████████| 2/2 [00:00<00:00, 13.99it/s]\n",
      "100%|████████████████████████████████████████████████████████████████████████████████████| 2/2 [00:00<00:00, 11.76it/s]\n",
      "  0%|                                                                                            | 0/2 [00:00<?, ?it/s]"
     ]
    },
    {
     "name": "stdout",
     "output_type": "stream",
     "text": [
      "epoch:  39 loss：  0.0 accuracy: 0.249 IOU: 0.928 test_loss：  0.001 test_accuracy: 0.249 test_iou: 0.938\n"
     ]
    },
    {
     "name": "stderr",
     "output_type": "stream",
     "text": [
      "100%|████████████████████████████████████████████████████████████████████████████████████| 2/2 [00:00<00:00, 13.79it/s]\n",
      " 50%|██████████████████████████████████████████                                          | 1/2 [00:00<00:00,  6.67it/s]"
     ]
    },
    {
     "name": "stdout",
     "output_type": "stream",
     "text": [
      "epoch:  40 loss：  0.0 accuracy: 0.249 IOU: 0.927 test_loss：  0.001 test_accuracy: 0.249 test_iou: 0.939\n"
     ]
    },
    {
     "name": "stderr",
     "output_type": "stream",
     "text": [
      "100%|████████████████████████████████████████████████████████████████████████████████████| 2/2 [00:00<00:00,  9.22it/s]\n",
      "100%|████████████████████████████████████████████████████████████████████████████████████| 2/2 [00:00<00:00, 14.71it/s]\n",
      "100%|████████████████████████████████████████████████████████████████████████████████████| 2/2 [00:00<00:00, 12.12it/s]\n",
      "  0%|                                                                                            | 0/2 [00:00<?, ?it/s]"
     ]
    },
    {
     "name": "stdout",
     "output_type": "stream",
     "text": [
      "epoch:  41 loss：  0.0 accuracy: 0.249 IOU: 0.926 test_loss：  0.001 test_accuracy: 0.249 test_iou: 0.929\n"
     ]
    },
    {
     "name": "stderr",
     "output_type": "stream",
     "text": [
      "100%|████████████████████████████████████████████████████████████████████████████████████| 2/2 [00:00<00:00, 15.15it/s]\n",
      "100%|████████████████████████████████████████████████████████████████████████████████████| 2/2 [00:00<00:00, 11.43it/s]\n",
      "  0%|                                                                                            | 0/2 [00:00<?, ?it/s]"
     ]
    },
    {
     "name": "stdout",
     "output_type": "stream",
     "text": [
      "epoch:  42 loss：  0.0 accuracy: 0.249 IOU: 0.921 test_loss：  0.001 test_accuracy: 0.249 test_iou: 0.918\n"
     ]
    },
    {
     "name": "stderr",
     "output_type": "stream",
     "text": [
      "100%|████████████████████████████████████████████████████████████████████████████████████| 2/2 [00:00<00:00, 14.29it/s]\n",
      "100%|████████████████████████████████████████████████████████████████████████████████████| 2/2 [00:00<00:00, 12.20it/s]\n",
      "  0%|                                                                                            | 0/2 [00:00<?, ?it/s]"
     ]
    },
    {
     "name": "stdout",
     "output_type": "stream",
     "text": [
      "epoch:  43 loss：  0.0 accuracy: 0.249 IOU: 0.926 test_loss：  0.001 test_accuracy: 0.249 test_iou: 0.936\n"
     ]
    },
    {
     "name": "stderr",
     "output_type": "stream",
     "text": [
      "100%|████████████████████████████████████████████████████████████████████████████████████| 2/2 [00:00<00:00, 12.12it/s]\n",
      "100%|████████████████████████████████████████████████████████████████████████████████████| 2/2 [00:00<00:00, 12.35it/s]\n",
      "  0%|                                                                                            | 0/2 [00:00<?, ?it/s]"
     ]
    },
    {
     "name": "stdout",
     "output_type": "stream",
     "text": [
      "epoch:  44 loss：  0.0 accuracy: 0.249 IOU: 0.93 test_loss：  0.001 test_accuracy: 0.249 test_iou: 0.941\n"
     ]
    },
    {
     "name": "stderr",
     "output_type": "stream",
     "text": [
      "100%|████████████████████████████████████████████████████████████████████████████████████| 2/2 [00:00<00:00, 14.92it/s]\n",
      "100%|████████████████████████████████████████████████████████████████████████████████████| 2/2 [00:00<00:00, 12.27it/s]\n",
      "  0%|                                                                                            | 0/2 [00:00<?, ?it/s]"
     ]
    },
    {
     "name": "stdout",
     "output_type": "stream",
     "text": [
      "epoch:  45 loss：  0.0 accuracy: 0.249 IOU: 0.936 test_loss：  0.001 test_accuracy: 0.249 test_iou: 0.93\n"
     ]
    },
    {
     "name": "stderr",
     "output_type": "stream",
     "text": [
      "100%|████████████████████████████████████████████████████████████████████████████████████| 2/2 [00:00<00:00, 13.07it/s]\n",
      "100%|████████████████████████████████████████████████████████████████████████████████████| 2/2 [00:00<00:00, 11.49it/s]"
     ]
    },
    {
     "name": "stdout",
     "output_type": "stream",
     "text": [
      "epoch:  46 loss：  0.0 accuracy: 0.249 IOU: 0.928 test_loss：  0.001 test_accuracy: 0.249 test_iou: 0.935\n"
     ]
    },
    {
     "name": "stderr",
     "output_type": "stream",
     "text": [
      "\n",
      "100%|████████████████████████████████████████████████████████████████████████████████████| 2/2 [00:00<00:00, 15.38it/s]\n",
      "100%|████████████████████████████████████████████████████████████████████████████████████| 2/2 [00:00<00:00, 12.27it/s]\n",
      "  0%|                                                                                            | 0/2 [00:00<?, ?it/s]"
     ]
    },
    {
     "name": "stdout",
     "output_type": "stream",
     "text": [
      "epoch:  47 loss：  0.0 accuracy: 0.249 IOU: 0.928 test_loss：  0.001 test_accuracy: 0.249 test_iou: 0.915\n"
     ]
    },
    {
     "name": "stderr",
     "output_type": "stream",
     "text": [
      "100%|████████████████████████████████████████████████████████████████████████████████████| 2/2 [00:00<00:00,  9.85it/s]\n",
      "100%|████████████████████████████████████████████████████████████████████████████████████| 2/2 [00:00<00:00, 12.58it/s]\n",
      "  0%|                                                                                            | 0/2 [00:00<?, ?it/s]"
     ]
    },
    {
     "name": "stdout",
     "output_type": "stream",
     "text": [
      "epoch:  48 loss：  0.0 accuracy: 0.249 IOU: 0.924 test_loss：  0.001 test_accuracy: 0.249 test_iou: 0.926\n"
     ]
    },
    {
     "name": "stderr",
     "output_type": "stream",
     "text": [
      "100%|████████████████████████████████████████████████████████████████████████████████████| 2/2 [00:00<00:00, 13.99it/s]"
     ]
    },
    {
     "name": "stdout",
     "output_type": "stream",
     "text": [
      "epoch:  49 loss：  0.0 accuracy: 0.249 IOU: 0.93 test_loss：  0.001 test_accuracy: 0.249 test_iou: 0.931\n"
     ]
    },
    {
     "name": "stderr",
     "output_type": "stream",
     "text": [
      "\n"
     ]
    }
   ],
   "source": [
    "train_loss = []\n",
    "train_acc = []\n",
    "test_loss = []\n",
    "test_acc = []\n",
    "\n",
    "for epoch in range(epochs):\n",
    "    epoch_loss, epoch_acc, epoch_test_loss, epoch_test_acc = fit(epoch,\n",
    "                                                                 model,\n",
    "                                                                 dl_train,\n",
    "                                                                 dl_test)\n",
    "    train_loss.append(epoch_loss)\n",
    "    train_acc.append(epoch_acc)\n",
    "    test_loss.append(epoch_test_loss)\n",
    "    test_acc.append(epoch_test_acc)"
   ]
  },
  {
   "cell_type": "code",
   "execution_count": null,
   "id": "38547202",
   "metadata": {},
   "outputs": [],
   "source": [
    "my_model = Net\n",
    "PATH='./data/checkpoint/2_train_acc_0.99_test_acc_0.949.pth'\n",
    "my_model.load_state_dict(torch.load(PATH))"
   ]
  },
  {
   "cell_type": "code",
   "execution_count": 54,
   "id": "03090fc1",
   "metadata": {},
   "outputs": [
    {
     "data": {
      "image/png": "[encoded data removed]",
      "text/plain": [
       "<Figure size 720x720 with 9 Axes>"
      ]
     },
     "metadata": {
      "needs_background": "light"
     },
     "output_type": "display_data"
    }
   ],
   "source": [
    "image, mask = next(iter(dl_test))\n",
    "image=image.to('cuda')\n",
    "model.eval()\n",
    "pred_mask = model(image)\n",
    " \n",
    "mask=torch.squeeze(mask)\n",
    "mask.shape\n",
    "pred_mask\n",
    "pred_mask.shape\n",
    "pred_mask=pred_mask.cpu()\n",
    "num=3\n",
    "plt.figure(figsize=(10, 10))\n",
    "for i in range(num):\n",
    "    plt.subplot(num, 3, i*num+1)\n",
    "    plt.imshow(image[i].permute(1,2,0).cpu().numpy())\n",
    "    plt.subplot(num, 3, i*num+2)\n",
    "    plt.imshow(mask[i].cpu().numpy())\n",
    "    plt.subplot(num, 3, i*num+3)\n",
    "    plt.imshow(torch.argmax(pred_mask[i].permute(1,2,0), axis=-1).detach().numpy())"
   ]
  },
  {
   "cell_type": "code",
   "execution_count": null,
   "id": "584c33af",
   "metadata": {},
   "outputs": [],
   "source": [
    "pred_mask\n",
    "pred_mask.shape\n",
    "pred_mask=pred_mask.cpu()"
   ]
  },
  {
   "cell_type": "code",
   "execution_count": null,
   "id": "422b2b6a",
   "metadata": {},
   "outputs": [],
   "source": [
    "num=3\n",
    "plt.figure(figsize=(10, 10))\n",
    "for i in range(num):\n",
    "    plt.subplot(num, 3, i*num+1)\n",
    "    plt.imshow(image[i].permute(1,2,0).cpu().numpy())\n",
    "    plt.subplot(num, 3, i*num+2)\n",
    "    plt.imshow(mask[i].cpu().numpy())\n",
    "    plt.subplot(num, 3, i*num+3)\n",
    "    plt.imshow(torch.argmax(pred_mask[i].permute(1,2,0), axis=-1).detach().numpy())"
   ]
  },
  {
   "cell_type": "code",
   "execution_count": null,
   "id": "cf1afda3",
   "metadata": {},
   "outputs": [],
   "source": [
    "image, mask = next(iter(dl_test))\n",
    "mask\n",
    "plt.figure(figsize=(10, 10))\n",
    "mask[1]\n",
    "image=image*255\n",
    "plt.imshow(image[1].permute(1,2,0).cpu().numpy())"
   ]
  },
  {
   "cell_type": "code",
   "execution_count": null,
   "id": "78f41d7b",
   "metadata": {},
   "outputs": [],
   "source": [
    "image, mask = next(iter(dl_test))\n",
    "my_model=my_model.cpu()\n",
    "pred_mask = my_model(image)\n",
    "\n",
    "plt.figure(figsize=(10, 10))\n",
    "for i in range(num):\n",
    "    plt.subplot(num, 3, i*num+1)\n",
    "    image=image/255\n",
    "    plt.imshow(image[i].permute(1,2,0).cpu().numpy())\n",
    "    plt.subplot(num, 3, i*num+2)\n",
    "    mask=mask/255\n",
    "    plt.imshow(mask[i].permute(1,2,0).cpu().numpy())\n",
    "    plt.subplot(num, 3, i*num+3)\n",
    "    plt.imshow(torch.argmax(pred_mask[i].permute(1,2,0), axis=-1).detach().numpy())"
   ]
  },
  {
   "cell_type": "code",
   "execution_count": null,
   "id": "fa464a10",
   "metadata": {},
   "outputs": [],
   "source": []
  }
 ],
 "metadata": {
  "kernelspec": {
   "display_name": "Python 3",
   "language": "python",
   "name": "python3"
  },
  "language_info": {
   "codemirror_mode": {
    "name": "ipython",
    "version": 3
   },
   "file_extension": ".py",
   "mimetype": "text/x-python",
   "name": "python",
   "nbconvert_exporter": "python",
   "pygments_lexer": "ipython3",
   "version": "3.8.8"
  }
 },
 "nbformat": 4,
 "nbformat_minor": 5
}
